{
 "cells": [
  {
   "cell_type": "code",
   "execution_count": 13,
   "metadata": {},
   "outputs": [
    {
     "name": "stdout",
     "output_type": "stream",
     "text": [
      "![1.areaMap.png](r_figures/1.areaMap.png)\n",
      "![10.Best-reconstr-SNWD.png](r_figures/10.Best-reconstr-SNWD.png)\n",
      "![11.CDF-res3-SNWD.png](r_figures/11.CDF-res3-SNWD.png)\n",
      "![12.CDF-Coeff-2-SNWD.png](r_figures/12.CDF-Coeff-2-SNWD.png)\n",
      "![13.grid_SNWD.png](r_figures/13.grid_SNWD.png)\n",
      "![14.Percentof Var_PCRP.png](r_figures/14.Percentof Var_PCRP.png)\n",
      "![15.CDF_PCRP.png](r_figures/15.CDF_PCRP.png)\n",
      "![16.CDF-rainfall.png](r_figures/16.CDF-rainfall.png)\n",
      "![17.normalized-log-pcrp.png](r_figures/17.normalized-log-pcrp.png)\n",
      "![18.blockDiag-PCRP.png](r_figures/18.blockDiag-PCRP.png)\n",
      "![19.Rependency_matrix_PCRP.png](r_figures/19.Rependency_matrix_PCRP.png)\n",
      "![2.South_Tahoe_Lake_Climate.png](r_figures/2.South_Tahoe_Lake_Climate.png)\n",
      "![20.grid-coef-1-neg-SNWD.png](r_figures/20.grid-coef-1-neg-SNWD.png)\n",
      "![21.grid-coef-1-pos-SNWD.png](r_figures/21.grid-coef-1-pos-SNWD.png)\n",
      "![22.grid-coef-2-neg-SNWD.png](r_figures/22.grid-coef-2-neg-SNWD.png)\n",
      "![23.grid-coef-2-pos-SNWD.png](r_figures/23.grid-coef-2-pos-SNWD.png)\n",
      "![24.grid-coef-3-neg-SNWD.png](r_figures/24.grid-coef-3-neg-SNWD.png)\n",
      "![25.grid-coef-3-pos-SNWD.png](r_figures/25.grid-coef-3-pos-SNWD.png)\n",
      "![26.histogram-SNWD.png](r_figures/26.histogram-SNWD.png)\n",
      "![27.rependency-matrix-SNWD.png](r_figures/27.rependency-matrix-SNWD.png)\n",
      "![28.block-Diag-SNWD.png](r_figures/28.block-Diag-SNWD.png)\n",
      "![29.Mapping-Correlation-SNWD.png](r_figures/29.Mapping-Correlation-SNWD.png)\n",
      "![3.Carson_City.png](r_figures/3.Carson_City.png)\n",
      "![30.Mapping-Corre-elev-SNWD.png](r_figures/30.Mapping-Corre-elev-SNWD.png)\n",
      "![31. grid - res-neg.png](r_figures/31. grid - res-neg.png)\n",
      "![32.grid-res-pos-PCRP.png](r_figures/32.grid-res-pos-PCRP.png)\n",
      "![33.best-reconstr-PCRP.png](r_figures/33.best-reconstr-PCRP.png)\n",
      "![4.Tmin_tmax_pcrp.png](r_figures/4.Tmin_tmax_pcrp.png)\n",
      "![5.Mean-std_PCRP_mm.png](r_figures/5.Mean-std_PCRP_mm.png)\n",
      "![6.Avg-PCRP.png](r_figures/6.Avg-PCRP.png)\n",
      "![7.Percentage of Variance_T_3.png](r_figures/7.Percentage of Variance_T_3.png)\n",
      "![8.Percentage of variance_SSP.png](r_figures/8.Percentage of variance_SSP.png)\n",
      "![9.Avg-SNWD.png](r_figures/9.Avg-SNWD.png)\n"
     ]
    }
   ],
   "source": [
    "L=!ls r_figures/\n",
    "for l in L:\n",
    "    print \"![%s](r_figures/%s)\"%(l,l)\n"
   ]
  },
  {
   "cell_type": "code",
   "execution_count": null,
   "metadata": {
    "collapsed": true
   },
   "outputs": [],
   "source": [
    "#![areaMap.png](r_figures/areaMap.png)\n",
    "\n",
    "#!open r_figures/areaMap.png\n"
   ]
  },
  {
   "cell_type": "markdown",
   "metadata": {},
   "source": [
    "# CA-NV border Weather Analysis\n",
    "\n",
    "This is a report on the historical analysis of weather patterns in an area that approximately overlaps the area south of Lake Tahoe, largely the Humbolt-Toiyabe National Forest. The area of our data set spans from the Eastern edge of California near Lake Tahoe through the middle of Nevada. The red dots on the map within the purple box represents the stations that are analyzed in this report."
   ]
  },
  {
   "cell_type": "markdown",
   "metadata": {},
   "source": [
    "<p>&nbsp;</p>\n",
    "\n",
    "<p>![1.areaMap.png](r_figures/1.areaMap.png)</p>\n",
    "\n",
    "<p>&nbsp;</p>"
   ]
  },
  {
   "cell_type": "markdown",
   "metadata": {},
   "source": [
    "# The Data\n",
    "\n",
    "The data we will use here comes from [NOAA](https://www.ncdc.noaa.gov/). Specifically, it was downloaded from This [FTP site](ftp://ftp.ncdc.noaa.gov/pub/data/ghcn/daily/).\n",
    "\n",
    "We focused on six measurements:\n",
    "* **TMIN, TMAX:** the daily minimum and maximum temperature.\n",
    "* **TOBS:** The average temperature for each day.\n",
    "* **PRCP:** Daily Percipitation (in mm)\n",
    "* **SNOW:** Daily snowfall (in mm)\n",
    "* **SNWD:** The depth of accumulated snow.\n",
    "\n",
    "## Sanity-check: comparison with outside sources\n",
    "\n",
    "<p>We start by comparing some of the general statistics with graphs that we obtained from a site called <a href=\"http://usclimatedata.com/climate/south-lake-tahoe/california/united-states/usca1317\" target=\"_blank\">US Climate Data</a> The graph below shows the daily minimum and maximum temperatures for each month, as well as the total precipitation for each month. As the data set in this analysis spans a large area stradling the CA-NV border, it was hard to find general statistics that covered the same area as the data set. So the general statistic graph found online is of the South Lake Tahoe area and Carson City, as those locations were the closest to the largest cluster of stations from the data set.</p>"
   ]
  },
  {
   "cell_type": "markdown",
   "metadata": {},
   "source": [
    "\n",
    "<p>&nbsp;</p>\n",
    "\n",
    "<p>![2.South_Tahoe_Lake_Climate.png](r_figures/2.South_Tahoe_Lake_Climate.png)</p>\n",
    "<p>![3.Carson_City.png](r_figures/3.Carson_City.png)</p>\n",
    "\n",
    "<p>&nbsp;</p>"
   ]
  },
  {
   "cell_type": "markdown",
   "metadata": {},
   "source": [
    "\n",
    "<p> We see in the temperature min and max (Tmin/Tmax) that the temperatures (in Centigrade) mostly reflects those gathered in the general climate both around the South Lake Tahoe area and Carson City. </p>"
   ]
  },
  {
   "cell_type": "markdown",
   "metadata": {},
   "source": [
    "<p>&nbsp;</p>\n",
    "\n",
    "<p>![4.Tmin_tmax_pcrp.png](r_figures/4.Tmin_tmax_pcrp.png)</p>"
   ]
  },
  {
   "cell_type": "markdown",
   "metadata": {},
   "source": [
    "<p> We see in the two graphs below that our level in percipitation roughly matches the percipitation levels of Carson City from the US-Climate-Data graph, but differs greatly from that of South Lake Tahoe. This difference in precipitation in these two cities of close proximity is captured by the \"Mean+-Std PCRP\" graph, which shows that there is a large amount of variation in the mean of precipitation. Even though the level of precipitation bewteen our data, South Lake Tahoe, and Carson City greatly differs, the monthly trends of precipitation between the three areas are roughly the same.</p> \n",
    "\n",
    "<p>The \"PCRP Mean\" graph shows that our precipitation levels are similar to that of Carson City, just slightly little higher, because our precipitation data spans a large area and accounts for areas of high precipitation such as South Tahoe Lake to the more arid climates of Nevada.</p>"
   ]
  },
  {
   "cell_type": "markdown",
   "metadata": {},
   "source": [
    "\n",
    "<p>&nbsp;![5.Mean-std_PCRP_mm.png](r_figures/5.Mean-std_PCRP_mm.png)</p>\n",
    "\n",
    "<p>&nbsp;![6.Avg-PCRP.png](r_figures/6.Avg-PCRP.png)</p>"
   ]
  },
  {
   "cell_type": "markdown",
   "metadata": {},
   "source": [
    "\n",
    "# PCA Analysis\n",
    "## Percentage of Variance\n",
    "<p> For each of the 6 measurements we took TMAX,TMIN,TOBS,PRCP,SNOW,SNWD, and we computed the percentage of the variance explained as a function of the number of eigenvectors used.  </p>"
   ]
  },
  {
   "cell_type": "markdown",
   "metadata": {},
   "source": [
    "<p>&nbsp;![7.Percentage of Variance_T_3.png](r_figures/7.Percentage of Variance_T_3.png)</p>"
   ]
  },
  {
   "cell_type": "markdown",
   "metadata": {},
   "source": [
    "\n",
    "<P> We see in the graphs above that 60% of TMIN is explained by the top 5 eigenvectors, 69% of TOBS is explained by the top 5 eigenvectors, and 54% of TMAX is explained by the top 5 eigenvectors. From this we conclude that the top 5 eigenvectors do a very thorough job of explaining the majority of the variance for TMIN,TMAX, and TOBS because a large percentage of each measurement is explained by the top 5 eigenvectors. < /p>"
   ]
  },
  {
   "cell_type": "markdown",
   "metadata": {},
   "source": [
    "<p>&nbsp;![8.Percentage of variance_SSP.png](r_figures/8.Percentage of variance_SSP.png)</p>"
   ]
  },
  {
   "cell_type": "markdown",
   "metadata": {},
   "source": [
    "<p> We see here in the graphs above that the top 5 eigenvectors explain 14.1% of variance for SNOW, 86% of variance for SNWD, and 17.51% of variance for PCRP. The top 5 eigenvectors explain smaller percentages of variance most likely because PCRP and SNOW are daily measurements so they are more likely to vary from day to day and between different years on the same day. The variance of SNWD can be mostly explained by the top 5 eigenvectors because SNWD is an accumulation measurements of snow depth, so unless there is suddenly a radical change in climate, the SNWD data is unlikely to vary drastically, so it is less noisy compared to SNOW and PCRP. </p>"
   ]
  },
  {
   "cell_type": "markdown",
   "metadata": {},
   "source": [
    "## Analysis of Snow Depth"
   ]
  },
  {
   "cell_type": "markdown",
   "metadata": {},
   "source": [
    "\n",
    "<p>In the \"SNWD Mean\" graph below we see that the snow depth peaks in February before making a decline and the snow depth is lowest between the months of June to November. </p>\n",
    "\n"
   ]
  },
  {
   "cell_type": "markdown",
   "metadata": {},
   "source": [
    "<p> ![9.Avg-SNWD.png](r_figures/9.Avg-SNWD.png)</p>"
   ]
  },
  {
   "cell_type": "markdown",
   "metadata": {},
   "source": [
    "\n",
    "<p> Looking at the eigenvectors in the graph \"SNWD Eigs\" above, we see the graph displaying the top 3 eigenvectors that explain the variance of SNWD.</p>\n",
    "\n",
    "<p> We analyze Snow Depth with 3 eigenvectors rather than the top 5, because the top 3 eigenvectors explains 80% of the measurement's variance but doesn't overcrowd the \"SNWD Eigs\" graph, making it easier for us to visually analyze the graph. </p>\n",
    "\n",
    "\n",
    "* ** Eig 1:** here we see that there is little change in the amount of snow from Jan to April, and after April, there is less snow. Around Mid-November the amount of snow starts increasing.\n",
    "\n",
    "* ** Eig 2:** here we see that there is more snow in Jan-Feb and less snow from Mar-May. \n",
    "\n",
    "* ** Eig 3:** here we see that there is less snow from Jan - Feb and there is more snow from Mar-Apr, and less snow again from May-June.\n",
    "\n",
    "\n"
   ]
  },
  {
   "cell_type": "markdown",
   "metadata": {},
   "source": [
    "## SNWD Reconstruction"
   ]
  },
  {
   "cell_type": "markdown",
   "metadata": {},
   "source": [
    "***Coeff_1***\n"
   ]
  },
  {
   "cell_type": "markdown",
   "metadata": {},
   "source": [
    "* **Most Positive**\n",
    "<p>![21.grid-coef-1-pos-SNWD.png](r_figures/21.grid-coef-1-pos-SNWD.png)</p>"
   ]
  },
  {
   "cell_type": "markdown",
   "metadata": {},
   "source": [
    "* **Most Negative**\n",
    "<p>![20.grid-coef-1-neg-SNWD.png](r_figures/20.grid-coef-1-neg-SNWD.png)</p>"
   ]
  },
  {
   "cell_type": "markdown",
   "metadata": {},
   "source": [
    "<p> We see in the two graphs above that the duration of the snow season for both large positive coeff 1 values and low coeff 1 values are similar. This says that the snow season starts and ends around the same times each year. We also see that for large positive values there is more than average snow for the duration of the snow season. For low values, we see that there is still more than average snow for the duration of the snow season. </p>"
   ]
  },
  {
   "cell_type": "markdown",
   "metadata": {},
   "source": [
    "***Coeff_2***"
   ]
  },
  {
   "cell_type": "markdown",
   "metadata": {},
   "source": [
    "* **Most Positive**\n",
    "<p>![23.grid-coef-2-pos-SNWD.png](r_figures/23.grid-coef-2-pos-SNWD.png)</p>"
   ]
  },
  {
   "cell_type": "markdown",
   "metadata": {},
   "source": [
    "* **Most Negative**\n",
    "<p>![22.grid-coef-2-neg-SNWD.png](r_figures/22.grid-coef-2-neg-SNWD.png)</p>"
   ]
  },
  {
   "cell_type": "markdown",
   "metadata": {},
   "source": [
    "<p>We see in the two graphs above that the duration of the snow season for both large positive coeff 2 values and low coeff 2 values are similar. This says that the snow season starts and ends around the same times each year. We also see that for large positive values there is more than average snow from Jan - Apr, then from May-June there is less than average snow. This might be due to a particuarly warm season, causing snow to melt earlier or it might be that the data from the more arid regions of our data set is affecting the overall results. For low values, we see that there is still more than average snow for the duration of the snow season.</p>"
   ]
  },
  {
   "cell_type": "markdown",
   "metadata": {},
   "source": [
    "***Coeff_3***"
   ]
  },
  {
   "cell_type": "markdown",
   "metadata": {},
   "source": [
    "* **Most Positive**\n",
    "<p>![25.grid-coef-3-pos-SNWD.png](r_figures/25.grid-coef-3-pos-SNWD.png)</p>"
   ]
  },
  {
   "cell_type": "markdown",
   "metadata": {},
   "source": [
    "* **Most Negative**\n",
    "<p>![24.grid-coef-3-neg-SNWD.png](r_figures/24.grid-coef-3-neg-SNWD.png)</p>"
   ]
  },
  {
   "cell_type": "markdown",
   "metadata": {},
   "source": [
    "<p>We see in the two graphs above that the duration of the snow season for both large positive coeff 3 values and low coeff 3 values are similar. This says that the snow season starts and ends around the same times each year. We also see that for large positive values there is more than average snow from Jan - June,and then from Dec-Jan there is less than average snow. This might be due to a particuarly warm season, causing snow to arrive later than usual. For low values, we see that overall, there is still more than average snow for the duration of the snow season.</p>"
   ]
  },
  {
   "cell_type": "markdown",
   "metadata": {
    "collapsed": true
   },
   "source": [
    "### SNWD Best Reconstruction\n",
    "\n",
    "\n",
    "<p>![10.Best-reconstr-SNWD.png](r_figures/10.Best-reconstr-SNWD.png)</p>\n",
    "\n"
   ]
  },
  {
   "cell_type": "markdown",
   "metadata": {},
   "source": [
    "<p> We can see above that from the best reconstruction, the snow season from Jan - mid Apr brings more than average snow. Then from May - June there is less than average snow and from Nov- Jan there is more than average snow again. We also see that the snow season for the best reconstruction is rather long, lasting from Jan - mid June, which is explained by our data set, because it covers a large portion of mountains, one of which is a portion of the Sierra Nevada Mountain Range.</p>"
   ]
  },
  {
   "cell_type": "markdown",
   "metadata": {},
   "source": [
    "## Is SNWD Temporal or Spatial?\n",
    "\n",
    "<p>We estimate here the relative importance of location-to-location variation relative to year-by-year variation. These are measured using the fraction by which the variance is reduced when we subtract from each station/year entry the average-per-year or the average-per-station respectively.</p>"
   ]
  },
  {
   "cell_type": "markdown",
   "metadata": {},
   "source": [
    "* **Coeff_1:** \n",
    "    * total RMS                   =  3524.55297988\n",
    "    * RMS removing mean-by-station=  1746.91151663,    fraction explained = 0.50435941051\n",
    "    * RMS removing mean-by-year   =  2867.27157028,    fraction explained = 0.186486460367\n",
    "\n",
    "* **Coeff_2:** \n",
    "    * total RMS =  1174.86213425\n",
    "    * RMS removing mean-by-station=  978.857625043, fraction explained = 0.166831923078\n",
    "    * RMS removing mean-by-year   =  882.700935227, fraction explained = 0.248677006865\n",
    "    \n",
    "* **Coeff_3:**\n",
    "    * total RMS                   =  952.099218524\n",
    "    * RMS removing mean-by-station=  910.749759066, fraction explained = 0.0434297798518\n",
    "    * RMS removing mean-by-year   =  748.783391738, fraction explained = 0.213544789062"
   ]
  },
  {
   "cell_type": "markdown",
   "metadata": {},
   "source": [
    "<p> We can see from the results above that SNWD is spatial, because 50% of the RMS is affected by the removal of mean-by-station, which is a lot larger compared to the 18% affected by the removal of mean-by-year. The fractions explained for coeff_2 and coeff_3 are small, around 4%-25%, so this shows that coeff_1 has a large impact on the RMS of the data. This is supported by the \"Percentage of Variation Explained from SNWD\" graph in section 3.1, which shows that around 70% of the variation can be explained from eigenvector 1.</p>"
   ]
  },
  {
   "cell_type": "markdown",
   "metadata": {},
   "source": [
    "## SNWD Correlation between Stations"
   ]
  },
  {
   "cell_type": "markdown",
   "metadata": {},
   "source": [
    "* **SNWD Log Probability**\n",
    "\n",
    "<p> We see for the historgram here that around 50% of the stations are distibuted around a p-value of 0.1. The histogram shows that under the null hypothesis of how independent snow depth is between all unique combination of pairs of stations. So we see that there is around a 10% probability of seeing the independence of snow depth between two stations given by the data under the null hypothesis.   </p>"
   ]
  },
  {
   "cell_type": "markdown",
   "metadata": {},
   "source": [
    "<p>![26.histogram-SNWD.png](r_figures/26.histogram-SNWD.png)</p>"
   ]
  },
  {
   "cell_type": "markdown",
   "metadata": {},
   "source": [
    "* **SNWD Rependency Matrix**\n",
    "<p> We see here that there is some strong correlation around position 6-9, 11-13, 22-26, and 28-35. Those stations are split into several blocks with each block containing around two stations that have very strong correlations. The rest of the matrix has some slight correlations, but they're not very strong</p>"
   ]
  },
  {
   "cell_type": "markdown",
   "metadata": {},
   "source": [
    "<p>![27.rependency-matrix-SNWD.png](r_figures/27.rependency-matrix-SNWD.png)</p>"
   ]
  },
  {
   "cell_type": "markdown",
   "metadata": {},
   "source": [
    "* **SNWD Block Diagonal**\n",
    "<p> Here the stations are sorted by eigenvector 1-4. The graph in the upper left corner being the graph sorted by the stations' eigenvector 1 values. The graph in the upper right corner contains the stations sorted by their eigenvector 2 values. The graph in the lower left corner contains the stations sorted and grouped by their eigenvector 3 values. The graph in the lower right corner constains the stations sorted by their eigenvector 4 values. </p>\n",
    "<p>We see from the graphs below that the first two eigenvectors illustrates the strongest correlations between stations and the third and fourth eigenvectors provide a lot less information. This result is supported by the chart titled \"Percentage of Variation Explained for SNWD\" in section 3.1 above, which shows that 70% of the variation is explained by the first eigenvector and each consecutive eigenvector after that provide less information about the variance. </p>\n",
    "  \n",
    "    * **Block Diagonal 1 - upper left corner**\n",
    "    <p> We see here that there is some clustering that is a bit denser in positions 1-7 that thins out as it spreads towards position 12. There is some dense clustering around positions 12-14 and then some sparse clustering around section 27-35.</p>\n",
    "        \n",
    "    * **Block Diagonal 2 - upper right corner**\n",
    "    <p> We see here that there are some dense clustering around position 1-4  and some sparse clustering around positions 30-35.</p>\n",
    "    \n",
    "    * **Block Diagonal 3 - lower left corner**\n",
    "    <p>We see here that there are some dense clustering around positions 1-4 and there are some sparse clusters randomly throughout the rest of the positions.  </p>\n",
    "    \n",
    "    * **Block Diagonal 4 - lower right corner**\n",
    "    <p> We see here that there is some sparse clustering around positions 1-5 and 13-21, such some dense clustering around position 23-25 and 30-35.</p>"
   ]
  },
  {
   "cell_type": "markdown",
   "metadata": {},
   "source": [
    "<p>\n",
    "\n",
    "![28.block-Diag-SNWD.png](r_figures/28.block-Diag-SNWD.png)</p>"
   ]
  },
  {
   "cell_type": "markdown",
   "metadata": {},
   "source": [
    "* **Mapping SNWD Correlation bewteen Stations**"
   ]
  },
  {
   "cell_type": "markdown",
   "metadata": {},
   "source": [
    "<p> From the Block Diagonal above, we saw that the first eigenvector provides 70% of the details about variance, so we mapped the stations from the coeff_1 block diagonal that had some correlation based on their coeff_1 values.  The resulting map is seen below, and printed out below the map are the stations along with their elevation. We see that although the locations of the points are not closely clustered, from the print out we see that there are groups of stations with similar elevations, that are somewhat closer in distance compared to others and these points would show up in the Block Diagonal as having some correlation.  </p>"
   ]
  },
  {
   "cell_type": "markdown",
   "metadata": {},
   "source": [
    "<p>![29.Mapping-Correlation-SNWD.png](r_figures/29.Mapping-Correlation-SNWD.png)</p>"
   ]
  },
  {
   "cell_type": "markdown",
   "metadata": {},
   "source": [
    "<P>![30.Mapping-Corre-elev-SNWD.png](r_figures/30.Mapping-Corre-elev-SNWD.png)</p>"
   ]
  },
  {
   "cell_type": "markdown",
   "metadata": {},
   "source": [
    "<p>In this map above, we see that there are two pairs of points that are close both elevation and there are two other pair of points who are further apart but have a similar elevation. So this shows that correlation between stations for SNWD does not necessarily depend solely on geographical location, and that elevation also impacts snow depth. </p>"
   ]
  },
  {
   "cell_type": "markdown",
   "metadata": {},
   "source": [
    "# Precipitation Analysis"
   ]
  },
  {
   "cell_type": "markdown",
   "metadata": {},
   "source": [
    "<p> ![14.Percentof Var_PCRP.png](r_figures/14.Percentof Var_PCRP.png)</p>"
   ]
  },
  {
   "cell_type": "markdown",
   "metadata": {},
   "source": [
    "<p> We can see above that the first 8 eigenvectors only explain 25% of the variance. So from that we see that there is more variation that is unexplained by the first 8 eignenvectors, so each eigenvector added does not provide as much value. </p>"
   ]
  },
  {
   "cell_type": "markdown",
   "metadata": {},
   "source": [
    "<p>![16.CDF-rainfall.png](r_figures/16.CDF-rainfall.png)</p>\n"
   ]
  },
  {
   "cell_type": "markdown",
   "metadata": {},
   "source": [
    "<p> In the graph above, we see that 80% of the time, the amound of daily rainfall is 0, so between the same days of different stations, we see that it rained on about 20% of those days.</p>"
   ]
  },
  {
   "cell_type": "markdown",
   "metadata": {},
   "source": [
    "## Precipitation Reconstruction"
   ]
  },
  {
   "cell_type": "markdown",
   "metadata": {},
   "source": [
    "<p>![33.best-reconstr-PCRP.png](r_figures/33.best-reconstr-PCRP.png)</p>"
   ]
  },
  {
   "cell_type": "markdown",
   "metadata": {},
   "source": [
    "<p> We see in the graph above of the best reconstruction of precipitation, that the coefficients closely follows that mean. However, we see that although the coefficients cover some of the smaller variations of the target, the coefficients don't cover the sharp peaks of target. This can be explained by the \"Percentage of Variance Explained\" graph above, which shows that the first 3 eigenvectors only explain around 13% of the variance of PCRP, so the current best reconstruction shown using three coefficients only covers some of the smaller variations in the target. We would have to apply more coefficients to the reconstruction to get a better fit to include the peaks of the target.  </p>"
   ]
  },
  {
   "cell_type": "markdown",
   "metadata": {},
   "source": [
    "## The Amount of Precipitation Correlation between Stations"
   ]
  },
  {
   "cell_type": "markdown",
   "metadata": {},
   "source": [
    "* **PCRP Rependency Matrix**\n",
    "\n",
    "<p> We see here that around 8 of the stations are highly correlated. Then we also see that there is a block of 40 stations in the middle of the matrix (position 11-48)that are somewhat related but not as much as the first 8 stations. This is explained by the area coverage of the data set, where there are large blocks of area of similar climate, so the correlation between the stations in those area are more similar to one another. The rest of the matrix below shows that for each pair of stations the overlap in rain days is mostly random. </p>"
   ]
  },
  {
   "cell_type": "markdown",
   "metadata": {},
   "source": [
    "<p>![19.Rependency_matrix_PCRP.png](r_figures/19.Rependency_matrix_PCRP.png)</p>"
   ]
  },
  {
   "cell_type": "markdown",
   "metadata": {},
   "source": [
    "* **PCRP Block Diagonal**\n",
    "<p>We see here that the block diagonal of stations sorted by eigenvector 1 in the upper left corner, and the block diagonal of stations sorted by eigenvector 2 in the upper right corner, the block diagonal of stations sorted by eigenvector 3 in the lower left corner, and block diagonal of stations sorted by eigenvector 4 all contribute valuable information about the correlation between stations. This differed alot from the SNWD block diagrams, where eigenvector 1 and eigenvector 2 provided clearer information about correlation than eigenvector 3 and eigenvector 4. The reason the first 4 eignenvectors provide more information for PCRP than SNWD, is illlustrated in the graph \"Percentage of Variation Explained for PCRP\" in section 3.1. There we see that with each additional eigenvector, there is a larger portion of variance explained in comparison to that of \"Percentage of Variation Explained for SNWD\".   </p>"
   ]
  },
  {
   "cell_type": "markdown",
   "metadata": {},
   "source": [
    "<p>![18.blockDiag-PCRP.png](r_figures/18.blockDiag-PCRP.png)</p>\n"
   ]
  },
  {
   "cell_type": "markdown",
   "metadata": {},
   "source": [
    "# Conclusion"
   ]
  },
  {
   "cell_type": "markdown",
   "metadata": {},
   "source": [
    "<p>In the sections above, we did a PCA analysis of SNWD because we see that for SNWD, 86% of the variation is explained by the first 5 eigenvectors. We then did an Analysis of PCRP, whose first 5 eigenvectors only account for 17.5% of its variance. This was done to see the difference in results between a measurement that had a few eigenvectors that explained most of the variance and a measurement whose first few eigenvectors explained a much smaller portion its variance.</p>  "
   ]
  },
  {
   "cell_type": "code",
   "execution_count": null,
   "metadata": {
    "collapsed": true
   },
   "outputs": [],
   "source": []
  }
 ],
 "metadata": {
  "kernelspec": {
   "display_name": "Python 2",
   "language": "python",
   "name": "python2"
  },
  "language_info": {
   "codemirror_mode": {
    "name": "ipython",
    "version": 2
   },
   "file_extension": ".py",
   "mimetype": "text/x-python",
   "name": "python",
   "nbconvert_exporter": "python",
   "pygments_lexer": "ipython2",
   "version": "2.7.13"
  },
  "toc": {
   "colors": {
    "hover_highlight": "#DAA520",
    "running_highlight": "#FF0000",
    "selected_highlight": "#FFD700"
   },
   "moveMenuLeft": true,
   "nav_menu": {
    "height": "48px",
    "width": "252px"
   },
   "navigate_menu": true,
   "number_sections": true,
   "sideBar": true,
   "threshold": 4,
   "toc_cell": false,
   "toc_section_display": "block",
   "toc_window_display": true,
   "widenNotebook": false
  }
 },
 "nbformat": 4,
 "nbformat_minor": 2
}
