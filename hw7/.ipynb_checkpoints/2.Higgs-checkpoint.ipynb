{
 "cells": [
  {
   "cell_type": "code",
   "execution_count": 2,
   "metadata": {
    "collapsed": true
   },
   "outputs": [],
   "source": [
    "import findspark \n",
    "findspark.init()\n",
    "from pyspark import SparkContext"
   ]
  },
  {
   "cell_type": "code",
   "execution_count": 3,
   "metadata": {
    "collapsed": true
   },
   "outputs": [],
   "source": [
    "sc = SparkContext(master = \"local[4]\")"
   ]
  },
  {
   "cell_type": "code",
   "execution_count": 4,
   "metadata": {},
   "outputs": [],
   "source": [
    "from pyspark.mllib.linalg import Vectors\n",
    "from pyspark.mllib.regression import LabeledPoint\n",
    "\n",
    "from string import split,strip\n",
    "\n",
    "from pyspark.mllib.tree import GradientBoostedTrees, GradientBoostedTreesModel\n",
    "from pyspark.mllib.tree import RandomForest, RandomForestModel\n",
    "\n",
    "from pyspark.mllib.util import MLUtils"
   ]
  },
  {
   "cell_type": "markdown",
   "metadata": {},
   "source": [
    "### Higgs data set\n",
    "* **URL:** http://archive.ics.uci.edu/ml/datasets/HIGGS#  \n",
    "* **Abstract:** This is a classification problem to distinguish between a signal process which produces Higgs bosons and a background process which does not.\n",
    "\n",
    "**Data Set Information:**  \n",
    "The data has been produced using Monte Carlo simulations. The first 21 features (columns 2-22) are kinematic properties measured by the particle detectors in the accelerator. The last seven features are functions of the first 21 features; these are high-level features derived by physicists to help discriminate between the two classes. There is an interest in using deep learning methods to obviate the need for physicists to manually develop such features. Benchmark results using Bayesian Decision Trees from a standard physics package and 5-layer neural networks are presented in the original paper. The last 500,000 examples are used as a test set.\n",
    "\n"
   ]
  },
  {
   "cell_type": "code",
   "execution_count": 5,
   "metadata": {},
   "outputs": [
    {
     "name": "stdout",
     "output_type": "stream",
     "text": [
      "28 ['lepton pT', 'lepton eta', 'lepton phi', 'missing energy magnitude', 'missing energy phi', 'jet 1 pt', 'jet 1 eta', 'jet 1 phi', 'jet 1 b-tag', 'jet 2 pt', 'jet 2 eta', 'jet 2 phi', 'jet 2 b-tag', 'jet 3 pt', 'jet 3 eta', 'jet 3 phi', 'jet 3 b-tag', 'jet 4 pt', 'jet 4 eta', 'jet 4 phi', 'jet 4 b-tag', 'm_jj', 'm_jjj', 'm_lv', 'm_jlv', 'm_bb', 'm_wbb', 'm_wwbb']\n"
     ]
    }
   ],
   "source": [
    "#define feature names\n",
    "feature_text='lepton pT, lepton eta, lepton phi, missing energy magnitude, missing energy phi, jet 1 pt, jet 1 eta, jet 1 phi, jet 1 b-tag, jet 2 pt, jet 2 eta, jet 2 phi, jet 2 b-tag, jet 3 pt, jet 3 eta, jet 3 phi, jet 3 b-tag, jet 4 pt, jet 4 eta, jet 4 phi, jet 4 b-tag, m_jj, m_jjj, m_lv, m_jlv, m_bb, m_wbb, m_wwbb'\n",
    "features=[strip(a) for a in split(feature_text,',')]\n",
    "print len(features),features"
   ]
  },
  {
   "cell_type": "code",
   "execution_count": 6,
   "metadata": {},
   "outputs": [
    {
     "name": "stdout",
     "output_type": "stream",
     "text": [
      "/CSE255-DSE230/Classes/HW-7/higgs\n",
      "total 7847168\n",
      "-rw-r--r-- 1 root root 8035497980 May 31 23:58 HIGGS.csv\n",
      "/CSE255-DSE230/Classes/HW-7\n"
     ]
    }
   ],
   "source": [
    "# create a directory called higgs, download and decompress HIGGS.csv.gz into it\n",
    "\n",
    "from os.path import exists\n",
    "if not exists('higgs'):\n",
    "    print \"creating directory higgs\"\n",
    "    !mkdir higgs\n",
    "%cd higgs\n",
    "if not exists('HIGGS.csv'):\n",
    "    if not exists('HIGGS.csv.gz'):\n",
    "        print 'downloading HIGGS.csv.gz'\n",
    "        !curl -O http://archive.ics.uci.edu/ml/machine-learning-databases/00280/HIGGS.csv.gz\n",
    "    print 'decompressing HIGGS.csv.gz --- May take 5-10 minutes'\n",
    "    !gunzip -f HIGGS.csv.gz\n",
    "!ls -l\n",
    "%cd .."
   ]
  },
  {
   "cell_type": "markdown",
   "metadata": {},
   "source": [
    "### As done in previous notebook, create RDDs from raw data and build Gradient boosting and Random forests models. Consider doing 1% sampling since the dataset is too big for your local machine"
   ]
  },
  {
   "cell_type": "code",
   "execution_count": null,
   "metadata": {
    "collapsed": true
   },
   "outputs": [],
   "source": []
  },
  {
   "cell_type": "code",
   "execution_count": 7,
   "metadata": {},
   "outputs": [
    {
     "data": {
      "text/plain": [
       "u'1.000000000000000000e+00,8.692932128906250000e-01,-6.350818276405334473e-01,2.256902605295181274e-01,3.274700641632080078e-01,-6.899932026863098145e-01,7.542022466659545898e-01,-2.485731393098831177e-01,-1.092063903808593750e+00,0.000000000000000000e+00,1.374992132186889648e+00,-6.536741852760314941e-01,9.303491115570068359e-01,1.107436060905456543e+00,1.138904333114624023e+00,-1.578198313713073730e+00,-1.046985387802124023e+00,0.000000000000000000e+00,6.579295396804809570e-01,-1.045456994324922562e-02,-4.576716944575309753e-02,3.101961374282836914e+00,1.353760004043579102e+00,9.795631170272827148e-01,9.780761599540710449e-01,9.200048446655273438e-01,7.216574549674987793e-01,9.887509346008300781e-01,8.766783475875854492e-01'"
      ]
     },
     "execution_count": 7,
     "metadata": {},
     "output_type": "execute_result"
    }
   ],
   "source": [
    "# Read the file into an RDD  #THIS IS WHAT YOU REPLACE WHEN TURNING INTO PYOBLT\n",
    "# If doing this on a real cluster, you need the file to be available on all nodes, ideally in HDFS.\n",
    "path='higgs/HIGGS.csv'\n",
    "inputRDD=sc.textFile(path)\n",
    "inputRDD.first()"
   ]
  },
  {
   "cell_type": "code",
   "execution_count": 8,
   "metadata": {
    "collapsed": true
   },
   "outputs": [],
   "source": [
    "# making problem binary  ##### problem is aHERE???\n",
    "\n",
    "Label=2.0\n",
    "Data=inputRDD.map(lambda line: [float(x) for x in line.split(',')])\\\n",
    "    .map(lambda V:LabeledPoint(V[0],V[1:]))"
   ]
  },
  {
   "cell_type": "code",
   "execution_count": 9,
   "metadata": {
    "collapsed": true
   },
   "outputs": [],
   "source": [
    "Data1=Data.sample(False,0.01).cache()\n",
    "(trainingData,testData)=Data1.randomSplit([0.7,0.3], seed=255)\n",
    "#(trainingData,testData)=Data.randomSplit([0.7,0.3], seed=255)\n"
   ]
  },
  {
   "cell_type": "code",
   "execution_count": 12,
   "metadata": {},
   "outputs": [
    {
     "name": "stdout",
     "output_type": "stream",
     "text": [
      "1 {'test': 0.3602607450729538, 'train': 0.3570191092758796} 130 seconds\n",
      "3 {'test': 0.3160924792104542, 'train': 0.31128450285922704} 145 seconds\n",
      "6 {'test': 0.2980596423893509, 'train': 0.28110304940796416} 227 seconds\n",
      "10 {'test': 0.2983337902464285, 'train': 0.17280412666571143} 835 seconds\n",
      "{1: {'test': 0.3602607450729538, 'train': 0.3570191092758796}, 10: {'test': 0.2983337902464285, 'train': 0.17280412666571143}, 3: {'test': 0.3160924792104542, 'train': 0.31128450285922704}, 6: {'test': 0.2980596423893509, 'train': 0.28110304940796416}}\n"
     ]
    }
   ],
   "source": [
    "#Gradient Boosted Trees\n",
    "\n",
    "from time import time\n",
    "errors={}\n",
    "for depth in [1,3,6,10]:\n",
    "    start=time()\n",
    "    model=GradientBoostedTrees.trainClassifier( trainingData,{}, numIterations=10, learningRate = 0.15, maxDepth = depth)  #Data???\n",
    "    #print model.toDebugString()\n",
    "    errors[depth]={}\n",
    "    dataSets={'train':trainingData,'test':testData}\n",
    "    for name in dataSets.keys():  # Calculate errors on train and test sets\n",
    "        data=dataSets[name]\n",
    "        Predicted=model.predict(data.map(lambda x: x.features))\n",
    "        LabelsAndPredictions=data.map(lambda x: x.label).zip(Predicted) ### FILLIN ###\n",
    "        Err = LabelsAndPredictions.filter(lambda (v,p):v != p).count()/float(data.count())\n",
    "        errors[depth][name]=Err\n",
    "    print depth,errors[depth],int(time()-start),'seconds'\n",
    "print errors"
   ]
  },
  {
   "cell_type": "code",
   "execution_count": 13,
   "metadata": {},
   "outputs": [
    {
     "name": "stdout",
     "output_type": "stream",
     "text": [
      "Populating the interactive namespace from numpy and matplotlib\n"
     ]
    },
    {
     "name": "stderr",
     "output_type": "stream",
     "text": [
      "/root/anaconda2/lib/python2.7/site-packages/IPython/core/magics/pylab.py:161: UserWarning: pylab import has clobbered these variables: ['info', 'linalg', 'random', 'fft', 'power']\n",
      "`%matplotlib` prevents importing * from pylab and numpy\n",
      "  \"\\n`%matplotlib` prevents importing * from pylab and numpy\"\n"
     ]
    },
    {
     "data": {
      "image/png": "[encoded data removed]",
      "text/plain": [
       "<matplotlib.figure.Figure at 0x7ff45e7ec3d0>"
      ]
     },
     "metadata": {},
     "output_type": "display_data"
    }
   ],
   "source": [
    "B10 = errors\n",
    "\n",
    "#Plot Train/test accuracy vs Depth of trees graph\n",
    "%pylab inline\n",
    "from plot_utils import *\n",
    "make_figure([B10],['10Trees'],Title='Boosting using 10% of data')"
   ]
  },
  {
   "cell_type": "code",
   "execution_count": 14,
   "metadata": {},
   "outputs": [
    {
     "name": "stdout",
     "output_type": "stream",
     "text": [
      "1 {'test': 0.3979103841116086, 'train': 0.3996925842462452} 39 seconds\n",
      "3 {'test': 0.3663833805476865, 'train': 0.3618127108598523} 42 seconds\n",
      "6 {'test': 0.329586645953273, 'train': 0.3213797235863434} 71 seconds\n",
      "10 {'test': 0.3010448079441957, 'train': 0.2628534955515898} 173 seconds\n",
      "{1: {'test': 0.3979103841116086, 'train': 0.3996925842462452}, 10: {'test': 0.3010448079441957, 'train': 0.2628534955515898}, 3: {'test': 0.3663833805476865, 'train': 0.3618127108598523}, 6: {'test': 0.329586645953273, 'train': 0.3213797235863434}}\n"
     ]
    }
   ],
   "source": [
    "# Random Forrests\n",
    "\n",
    "from time import time\n",
    "errors={}\n",
    "for depth in [1,3,6,10]: # included 15,20\n",
    "    start=time()\n",
    "    model = RandomForest.trainClassifier(trainingData, numClasses = 2, categoricalFeaturesInfo = {}, numTrees=10, featureSubsetStrategy='auto', impurity='gini', maxDepth=depth, maxBins=32, seed=None)\n",
    "    #print model.toDebugString()\n",
    "    errors[depth]={}\n",
    "    dataSets={'train':trainingData,'test':testData}\n",
    "    for name in dataSets.keys():  # Calculate errors on train and test sets\n",
    "        ### FILLIN ###\n",
    "        data=dataSets[name]\n",
    "        Predicted=model.predict(data.map(lambda x: x.features))\n",
    "        LabelsAndPredictions=data.map(lambda x: x.label).zip(Predicted)\n",
    "        Err = LabelsAndPredictions.filter(lambda (v,p):v != p).count()/float(data.count())\n",
    "        errors[depth][name]=Err\n",
    "    print depth,errors[depth],int(time()-start),'seconds'\n",
    "print errors\n"
   ]
  },
  {
   "cell_type": "code",
   "execution_count": null,
   "metadata": {},
   "outputs": [],
   "source": [
    "RF_10trees = errors\n",
    "# Plot Train/test accuracy vs Depth of trees graph\n",
    "make_figure([RF_10trees],['10Trees'],Title='Random Forests using 10% of data')"
   ]
  },
  {
   "cell_type": "code",
   "execution_count": null,
   "metadata": {},
   "outputs": [],
   "source": [
    "fig = make_figure([RF_10trees,B10],['10Trees', '10Trees'],Title='Random Forests using 10% of data')"
   ]
  },
  {
   "cell_type": "code",
   "execution_count": null,
   "metadata": {
    "collapsed": true
   },
   "outputs": [],
   "source": []
  }
 ],
 "metadata": {
  "celltoolbar": "Slideshow",
  "kernelspec": {
   "display_name": "Python 2",
   "language": "python",
   "name": "python2"
  },
  "language_info": {
   "codemirror_mode": {
    "name": "ipython",
    "version": 2
   },
   "file_extension": ".py",
   "mimetype": "text/x-python",
   "name": "python",
   "nbconvert_exporter": "python",
   "pygments_lexer": "ipython2",
   "version": "2.7.13"
  },
  "toc": {
   "colors": {
    "hover_highlight": "#DAA520",
    "running_highlight": "#FF0000",
    "selected_highlight": "#FFD700"
   },
   "moveMenuLeft": true,
   "nav_menu": {
    "height": "48px",
    "width": "252px"
   },
   "navigate_menu": true,
   "number_sections": true,
   "sideBar": true,
   "threshold": 4,
   "toc_cell": false,
   "toc_section_display": "block",
   "toc_window_display": false,
   "widenNotebook": false
  }
 },
 "nbformat": 4,
 "nbformat_minor": 1
}
